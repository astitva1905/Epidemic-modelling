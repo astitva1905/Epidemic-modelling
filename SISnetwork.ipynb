{
  "nbformat": 4,
  "nbformat_minor": 0,
  "metadata": {
    "colab": {
      "provenance": []
    },
    "kernelspec": {
      "name": "python3",
      "display_name": "Python 3"
    },
    "language_info": {
      "name": "python"
    }
  },
  "cells": [
    {
      "cell_type": "code",
      "source": [
        "import random\n",
        "import networkx as nx\n",
        "import matplotlib.pyplot as plt\n",
        "import math"
      ],
      "metadata": {
        "id": "jK6IYgg-eeQB"
      },
      "execution_count": null,
      "outputs": []
    },
    {
      "cell_type": "markdown",
      "source": [
        "#Creating the static network"
      ],
      "metadata": {
        "id": "EfAoR1zQcSVO"
      }
    },
    {
      "cell_type": "code",
      "source": [
        "#global variables\n",
        "network = {}\n",
        "edges = []\n",
        "\n",
        "color_map = []\n",
        "infected = set()\n",
        "\n",
        "criticals = set()\n"
      ],
      "metadata": {
        "id": "KSUvJYsNwPGR"
      },
      "execution_count": null,
      "outputs": []
    },
    {
      "cell_type": "code",
      "execution_count": null,
      "metadata": {
        "id": "8KmtVLeqtsX8"
      },
      "outputs": [],
      "source": [
        "def makeGraph(N,Pk,Pe1,Pe2):\n",
        "  global network,edges,color_map,infected,criticals\n",
        "  network = {}\n",
        "  edges = []\n",
        "  color_map = []\n",
        "  infected = set()\n",
        "  criticals = set()\n",
        "  #N = 10\n",
        "\n",
        "  for v in range(N):\n",
        "    network[v] = set()\n",
        "\n",
        "  for u in range(N):\n",
        "    #Pk = 0.25\n",
        "    nodeType = random.choices([0,1],weights = [(1-Pk),Pk])[0]\n",
        "    cnt = 0\n",
        "    for v in range(u):\n",
        "      #Pe1 = 0.3\n",
        "      #Pe2 = 0.8\n",
        "      Pe = Pe1 if nodeType==0 else Pe2\n",
        "      isEdge = random.choices([0,1],weights = [(1-Pe),Pe])[0]\n",
        "      if isEdge:\n",
        "          cnt = cnt+1\n",
        "          network[u].add(v)\n",
        "          network[v].add(u)\n",
        "          edges.append((u,v))\n",
        "    if cnt==0 and u!=0:\n",
        "      v =math.floor((u)*random.random())\n",
        "      network[u].add(v)\n",
        "      network[v].add(u)\n",
        "      edges.append((u,v))\n",
        "\n",
        "  G = nx.Graph()\n",
        "  for v in range(N):\n",
        "    G.add_node(v)\n",
        "\n",
        "  G.add_edges_from(edges)\n",
        "  return G"
      ]
    },
    {
      "cell_type": "code",
      "source": [
        "#G is also a global variable, the graph itself.\n",
        "G = makeGraph(10,0.25,0.3,0.8)\n",
        "print(G)\n",
        "print(G.number_of_nodes())"
      ],
      "metadata": {
        "colab": {
          "base_uri": "https://localhost:8080/"
        },
        "id": "BgwuhdbBwobv",
        "outputId": "cc42e845-f84f-4c24-ba11-760cf27e6e95"
      },
      "execution_count": null,
      "outputs": [
        {
          "output_type": "stream",
          "name": "stdout",
          "text": [
            "Graph with 10 nodes and 16 edges\n",
            "10\n"
          ]
        }
      ]
    },
    {
      "cell_type": "markdown",
      "source": [
        "The above code creates the static network. This is done using the following input variables:\n",
        "\n",
        "1. **N = Total number of people (nodes)**\n",
        "2. *Pk = Probability of node u being 1-node.*\n",
        "Each node can be of 2 types, a 1-node (higher probability of making edges) or 0-node.\n",
        "3. *Pe1 = Probability of an edge (u,v) being created, when u is 0-Type node.*\n",
        "4. *Pe2 = Probability of an edge (u,v) being created, when u is 1-Type node.*\n"
      ],
      "metadata": {
        "id": "EXhE2pWYcWGq"
      }
    },
    {
      "cell_type": "markdown",
      "source": [
        "#Visualizing (& Reseting to all blue) the Graph"
      ],
      "metadata": {
        "id": "u4HQlr9QhmbP"
      }
    },
    {
      "cell_type": "code",
      "source": [
        "def resetGraph(G):\n",
        "  global color_map,infected\n",
        "  color_map = ['blue']*(G.number_of_nodes())\n",
        "  infected = set()\n",
        "\n",
        "def drawGraph(G):\n",
        "  nx.draw(G,with_labels=True,node_color = color_map)\n",
        "  plt.show()"
      ],
      "metadata": {
        "id": "Oe2YsYsbKVIC"
      },
      "execution_count": null,
      "outputs": []
    },
    {
      "cell_type": "code",
      "source": [
        "resetGraph(G)\n",
        "#drawGraph(G)\n",
        "\n",
        "#print(edges)\n",
        "print(network)"
      ],
      "metadata": {
        "colab": {
          "base_uri": "https://localhost:8080/"
        },
        "id": "sKF3rivphDz2",
        "outputId": "d44cfbc0-9838-4761-8e16-8da2a7994b62"
      },
      "execution_count": null,
      "outputs": [
        {
          "output_type": "stream",
          "name": "stdout",
          "text": [
            "{0: {1, 2, 3, 6, 8}, 1: {0, 2, 3}, 2: {0, 1, 3, 4, 5, 6}, 3: {0, 1, 2, 5}, 4: {2}, 5: {8, 2, 3, 7}, 6: {0, 2}, 7: {8, 9, 5}, 8: {0, 5, 7}, 9: {7}}\n"
          ]
        }
      ]
    },
    {
      "cell_type": "markdown",
      "source": [
        "# Finding Critical nodes\n"
      ],
      "metadata": {
        "id": "qz79MTRuidwC"
      }
    },
    {
      "cell_type": "markdown",
      "source": [
        "**Nc = number of critical nodes in the graph.**\n",
        "\n",
        "For starters, we consider another input variable, *k = Number of minimum edges for a node to be critical.*\n",
        "\n",
        "As an initial guess, we take k= (N//2) + 1\n",
        "\n",
        "Below we calculate Nc, as well as Criticals, i.e. a list of critical nodes in the network."
      ],
      "metadata": {
        "id": "VV4KbkbokWF4"
      }
    },
    {
      "cell_type": "code",
      "source": [
        "def countCritical(G,k):\n",
        "  #global criticals\n",
        "  N = G.number_of_nodes()\n",
        "  Nc = 0\n",
        "  for v in range(N):\n",
        "    if len(network[v])>=k:\n",
        "      Nc+=1\n",
        "      criticals.add(v)\n",
        "  return Nc"
      ],
      "metadata": {
        "id": "zQYKWiT2MI5R"
      },
      "execution_count": null,
      "outputs": []
    },
    {
      "cell_type": "code",
      "source": [
        "Nc = countCritical(G,G.number_of_nodes()//10)\n",
        "print(Nc, criticals)"
      ],
      "metadata": {
        "colab": {
          "base_uri": "https://localhost:8080/"
        },
        "id": "VznqL3h7jENg",
        "outputId": "4681ab58-d992-4047-89d4-7f9ac6bf2c89"
      },
      "execution_count": null,
      "outputs": [
        {
          "output_type": "stream",
          "name": "stdout",
          "text": [
            "10 {0, 1, 2, 3, 4, 5, 6, 7, 8, 9}\n"
          ]
        }
      ]
    },
    {
      "cell_type": "markdown",
      "source": [
        "# Infecting first node"
      ],
      "metadata": {
        "id": "WQMPD3s4gge1"
      }
    },
    {
      "cell_type": "markdown",
      "source": [
        "##Visualising The Infected as Orange"
      ],
      "metadata": {
        "id": "GP0QLiyyktWX"
      }
    },
    {
      "cell_type": "code",
      "source": [
        "def startInfection(G):\n",
        "  patient0 = random.randint(0, G.number_of_nodes() - 1)\n",
        "  print(patient0)\n",
        "  color_map[patient0] = 'orange'\n",
        "  infected.add(patient0)\n"
      ],
      "metadata": {
        "id": "eK6NzxjHkoH-"
      },
      "execution_count": null,
      "outputs": []
    },
    {
      "cell_type": "code",
      "source": [
        "startInfection(G)\n",
        "drawGraph(G)"
      ],
      "metadata": {
        "colab": {
          "base_uri": "https://localhost:8080/",
          "height": 533
        },
        "id": "P-6nAXMqNyIM",
        "outputId": "52b13b0f-2755-41a6-bb41-c71b295f3123"
      },
      "execution_count": null,
      "outputs": [
        {
          "output_type": "stream",
          "name": "stdout",
          "text": [
            "0\n"
          ]
        },
        {
          "output_type": "display_data",
          "data": {
            "text/plain": [
              "<Figure size 640x480 with 1 Axes>"
            ],
            "image/png": "[encoded data removed]"
          },
          "metadata": {}
        }
      ]
    },
    {
      "cell_type": "markdown",
      "source": [
        "# The Simulation"
      ],
      "metadata": {
        "id": "SrLwHNhDnFle"
      }
    },
    {
      "cell_type": "markdown",
      "source": [
        "## Evolution function for one unit of time"
      ],
      "metadata": {
        "id": "SMHoqz9cpojC"
      }
    },
    {
      "cell_type": "code",
      "source": [
        "def timestep(mu, r):\n",
        "\n",
        "  newlyInfected = set()\n",
        "  justRecovered = set()\n",
        "\n",
        "  for u in infected:\n",
        "    #time moves for each node u\n",
        "    #print(u)\n",
        "    #spreads ahead?\n",
        "    for v in network[u]:\n",
        "      if v in infected or v in newlyInfected:\n",
        "        continue\n",
        "\n",
        "      infectsV = random.choices([0,1],weights = [1-r,r])[0]\n",
        "      #print(infectsV)\n",
        "      if infectsV==1:\n",
        "        newlyInfected.add(v)\n",
        "\n",
        "    #recovers?\n",
        "    recovers = random.choices([0,1],weights = [1-mu,mu])[0]\n",
        "    if recovers==1:\n",
        "      justRecovered.add(u)\n",
        "\n",
        "  for u in newlyInfected:\n",
        "    color_map[u]='orange'\n",
        "    infected.add(u)\n",
        "  for u in justRecovered:\n",
        "    color_map[u]='blue'\n",
        "    infected.remove(u)\n",
        "\n"
      ],
      "metadata": {
        "id": "FjIqJa0ZnIa7"
      },
      "execution_count": null,
      "outputs": []
    },
    {
      "cell_type": "markdown",
      "source": [
        "The two parameters used in the above timestep are :\n",
        "\n",
        "\n",
        "1.   mu = Probability that an infected person recovers in one unit time\n",
        "2.   r = Probability that an infected person spreads the disease to it's susceptible neighbour(s) in one unit time\n",
        "\n",
        "\n"
      ],
      "metadata": {
        "id": "sIkxrPpYp1cH"
      }
    },
    {
      "cell_type": "code",
      "source": [
        "drawGraph(G)\n",
        "print(infected)"
      ],
      "metadata": {
        "colab": {
          "base_uri": "https://localhost:8080/",
          "height": 533
        },
        "id": "kV5F060quqiY",
        "outputId": "25b4af6b-1c61-4a0e-a670-f8640d431c22"
      },
      "execution_count": null,
      "outputs": [
        {
          "output_type": "display_data",
          "data": {
            "text/plain": [
              "<Figure size 640x480 with 1 Axes>"
            ],
            "image/png": "[encoded data removed]"
          },
          "metadata": {}
        },
        {
          "output_type": "stream",
          "name": "stdout",
          "text": [
            "{0}\n"
          ]
        }
      ]
    },
    {
      "cell_type": "markdown",
      "source": [
        "## Running time"
      ],
      "metadata": {
        "id": "3xL09maDwQF3"
      }
    },
    {
      "cell_type": "code",
      "source": [
        "def runSim(G,steps, mu, r):\n",
        "  resetGraph(G)\n",
        "  startInfection(G)\n",
        "  N = G.number_of_nodes()\n",
        "  infectedData = [0,len(infected)/N]\n",
        "  for t in range(steps):\n",
        "    timestep(mu,r)\n",
        "    infectedData.append(len(infected)/N)\n",
        "    #drawGraph(G)\n",
        "    #print(infected)\n",
        "  return infectedData"
      ],
      "metadata": {
        "id": "1idyMxXsqr5y"
      },
      "execution_count": null,
      "outputs": []
    },
    {
      "cell_type": "markdown",
      "source": [
        "# Verifying algorithm for normal SIS"
      ],
      "metadata": {
        "id": "ql_5AH3YvAh9"
      }
    },
    {
      "cell_type": "markdown",
      "source": [
        "###Graph parameter selection :\n",
        "1. N = 10000, a big enough number that runs in a sensible amount of time.\n",
        "2. Pk = 0 -> Considering an unbiased random network as of now.\n",
        "3. Pe1 = Pe2 = 0.?? (need help.)"
      ],
      "metadata": {
        "id": "WW-uc-BIkmlj"
      }
    },
    {
      "cell_type": "code",
      "source": [
        "G = makeGraph(10000,0.025,0.0001,0.1)\n",
        "print(G)"
      ],
      "metadata": {
        "id": "JI8_5sMptnbV",
        "colab": {
          "base_uri": "https://localhost:8080/"
        },
        "outputId": "8180c695-503f-4bb2-87c1-a7c4995b1344"
      },
      "execution_count": null,
      "outputs": [
        {
          "output_type": "stream",
          "name": "stdout",
          "text": [
            "Graph with 10000 nodes and 133046 edges\n"
          ]
        }
      ]
    },
    {
      "cell_type": "code",
      "source": [
        "print(G)\n",
        "Nc = countCritical(G,G.number_of_nodes()//10)\n",
        "print(Nc)"
      ],
      "metadata": {
        "colab": {
          "base_uri": "https://localhost:8080/"
        },
        "id": "LQ5hQaGKjPzc",
        "outputId": "30519875-5c33-4d39-cc96-0a7b83991e04"
      },
      "execution_count": null,
      "outputs": [
        {
          "output_type": "stream",
          "name": "stdout",
          "text": [
            "Graph with 10000 nodes and 133046 edges\n",
            "0\n"
          ]
        }
      ]
    },
    {
      "cell_type": "code",
      "source": [
        "infectedData = runSim(G,3000,0.2,0.05)\n",
        "print(infectedData[:100])"
      ],
      "metadata": {
        "colab": {
          "base_uri": "https://localhost:8080/"
        },
        "id": "6rW_X9q-YxMW",
        "outputId": "bfa46eb6-da4a-4d86-fc82-dce64d1e197b"
      },
      "execution_count": null,
      "outputs": [
        {
          "output_type": "stream",
          "name": "stdout",
          "text": [
            "7523\n",
            "[0, 0.0001, 0.0001, 0.0002, 0.0002, 0.0003, 0.0054, 0.0206, 0.1161, 0.3491, 0.5099, 0.5633, 0.5918, 0.6062, 0.6112, 0.6188, 0.6245, 0.6229, 0.6191, 0.6176, 0.6245, 0.6371, 0.6268, 0.6314, 0.6304, 0.6292, 0.6245, 0.6363, 0.6369, 0.633, 0.641, 0.633, 0.6368, 0.6372, 0.636, 0.6361, 0.616, 0.6216, 0.6352, 0.6338, 0.6341, 0.6298, 0.632, 0.6316, 0.6422, 0.6399, 0.6378, 0.6386, 0.631, 0.6297, 0.6237, 0.6308, 0.6366, 0.6273, 0.6326, 0.629, 0.6282, 0.634, 0.6396, 0.6381, 0.6331, 0.631, 0.6283, 0.6235, 0.6236, 0.6287, 0.6304, 0.6226, 0.6292, 0.6325, 0.6318, 0.633, 0.6309, 0.6332, 0.6278, 0.6369, 0.6329, 0.6319, 0.6316, 0.6243, 0.6274, 0.6288, 0.6297, 0.6299, 0.6286, 0.6251, 0.6282, 0.6315, 0.6333, 0.6302, 0.6314, 0.6368, 0.6338, 0.6331, 0.6351, 0.6315, 0.6258, 0.6233, 0.6269, 0.6287]\n"
          ]
        }
      ]
    },
    {
      "cell_type": "code",
      "source": [
        "suscepData = [1 - infectedData[i] for i in range(len(infectedData))]"
      ],
      "metadata": {
        "id": "l4eV8qvpoyxf"
      },
      "execution_count": null,
      "outputs": []
    },
    {
      "cell_type": "code",
      "source": [
        "plt.plot(infectedData[:150], label = 'Infected')\n",
        "plt.plot(suscepData[:150], label = 'Susceptible')\n",
        "plt.title(\"A Network Simulation\")\n",
        "plt.xlabel(\"Timesteps\")\n",
        "plt.ylabel(\"Number of people\")\n",
        "plt.legend()"
      ],
      "metadata": {
        "colab": {
          "base_uri": "https://localhost:8080/",
          "height": 489
        },
        "id": "sIAI-RPYko0p",
        "outputId": "556b35fa-d70e-4b5b-b2cc-1b58b0bdbe11"
      },
      "execution_count": null,
      "outputs": [
        {
          "output_type": "execute_result",
          "data": {
            "text/plain": [
              "<matplotlib.legend.Legend at 0x7fdfd7443e80>"
            ]
          },
          "metadata": {},
          "execution_count": 45
        },
        {
          "output_type": "display_data",
          "data": {
            "text/plain": [
              "<Figure size 640x480 with 1 Axes>"
            ],
            "image/png": "[encoded data removed]"
          },
          "metadata": {}
        }
      ]
    },
    {
      "cell_type": "markdown",
      "source": [
        "# Few good results"
      ],
      "metadata": {
        "id": "LXbWIin4s3Pz"
      }
    },
    {
      "cell_type": "code",
      "source": [
        "print(\"Are you sure you want to run these cells?\")\n",
        "ans = str(input())"
      ],
      "metadata": {
        "id": "5pKqUjVx16Bp"
      },
      "execution_count": null,
      "outputs": []
    },
    {
      "cell_type": "code",
      "source": [
        "#DO NOT RUN THIS CELL.\n",
        "#plt.plot(infectedData[:500])"
      ],
      "metadata": {
        "id": "AcEsdlQeZcpw"
      },
      "execution_count": null,
      "outputs": []
    },
    {
      "cell_type": "code",
      "source": [
        "#DO NOT RUN THIS CELL\n",
        "#plt.plot(infectedData[:400])"
      ],
      "metadata": {
        "id": "orAaqbhlZ1zX"
      },
      "execution_count": null,
      "outputs": []
    },
    {
      "cell_type": "code",
      "source": [
        "#DO NOT RUN THIS CELL\n",
        "#plt.plot(infectedData[:100])"
      ],
      "metadata": {
        "id": "tGydl-FAupVU"
      },
      "execution_count": null,
      "outputs": []
    },
    {
      "cell_type": "code",
      "source": [
        "#DO NOT RUN THIS CELL\n",
        "#plt.plot(infectedData[:100])"
      ],
      "metadata": {
        "id": "j9CAywN4yyL-"
      },
      "execution_count": null,
      "outputs": []
    },
    {
      "cell_type": "markdown",
      "source": [
        "## biased to make criticals"
      ],
      "metadata": {
        "id": "JjkmTFZG1gvO"
      }
    },
    {
      "cell_type": "code",
      "source": [
        "#DO NOT RUN THIS CELL\n",
        "\n",
        "#Graph with 10000 nodes and 226018 edges\n",
        "#73\n",
        "#infectedData = runSim(G,3000,0.2,0.05)\n",
        "#plt.plot(infectedData[:100])"
      ],
      "metadata": {
        "id": "ZFGEkZPg1VGs"
      },
      "execution_count": null,
      "outputs": []
    },
    {
      "cell_type": "code",
      "source": [
        "#DO NOT RUN THIS CELL\n",
        "#Graph with 10000 nodes and 128772 edges\n",
        "#3\n",
        "#\n",
        "#infectedData = runSim(G,3000,0.2,0.05)\n",
        "plt.plot(infectedData[:200])"
      ],
      "metadata": {
        "id": "jvQQCBPB3k8W"
      },
      "execution_count": null,
      "outputs": []
    },
    {
      "cell_type": "code",
      "source": [],
      "metadata": {
        "id": "kjnksTX1tgMK"
      },
      "execution_count": null,
      "outputs": []
    }
  ]
}